{
 "cells": [
  {
   "cell_type": "code",
   "execution_count": 1,
   "metadata": {
    "cell_style": "center"
   },
   "outputs": [],
   "source": [
    "import numpy as np\n",
    "import matplotlib.pyplot as plt\n",
    "import scipy.stats as ss\n",
    "import seaborn as sns"
   ]
  },
  {
   "cell_type": "markdown",
   "metadata": {
    "cell_style": "center"
   },
   "source": [
    "# Normal distribution"
   ]
  },
  {
   "cell_type": "markdown",
   "metadata": {},
   "source": [
    "#### Parameters for the inputs"
   ]
  },
  {
   "cell_type": "code",
   "execution_count": 2,
   "metadata": {
    "cell_style": "center"
   },
   "outputs": [],
   "source": [
    "mean_1 = 0\n",
    "mean_2 = 0\n",
    "sigma_1 = 1\n",
    "sigma_2 = 3\n",
    "rho = 0"
   ]
  },
  {
   "cell_type": "markdown",
   "metadata": {
    "cell_style": "center"
   },
   "source": [
    "#### The resulting output"
   ]
  },
  {
   "cell_type": "code",
   "execution_count": 3,
   "metadata": {
    "cell_style": "center"
   },
   "outputs": [],
   "source": [
    "mean_Y = mean_1 + mean_2\n",
    "sigma_Y = np.sqrt(sigma_1**2 + 2*rho*sigma_1*sigma_2 + sigma_2**2)"
   ]
  },
  {
   "cell_type": "markdown",
   "metadata": {},
   "source": [
    "#### Function to compute the conditional elements"
   ]
  },
  {
   "cell_type": "code",
   "execution_count": 4,
   "metadata": {
    "cell_style": "center"
   },
   "outputs": [],
   "source": [
    "def mean_1_given_2(x2, m_1, m_2, s_1, s_2, rho):\n",
    "    return m_1 + (rho*s_1*(x2-m_2))/s_2\n",
    "\n",
    "def mean_2_given_1(x1, m_1, m_2, s_1, s_2, rho):\n",
    "    return m_2 + (rho*s_2*(x1-m_1))/s_1\n",
    "\n",
    "def s_1_given_2(s_1, rho):\n",
    "    return s_1*np.sqrt(1-rho**2)\n",
    "\n",
    "def s_2_given_1(s_2, rho):\n",
    "    return s_2*np.sqrt(1-rho**2)"
   ]
  },
  {
   "cell_type": "markdown",
   "metadata": {},
   "source": [
    "#### Compute the quantiles"
   ]
  },
  {
   "cell_type": "code",
   "execution_count": 5,
   "metadata": {
    "cell_style": "center"
   },
   "outputs": [],
   "source": [
    "def quantile_Y(alpha, m_Y, s_Y):\n",
    "    return m_Y + s_Y*ss.norm.ppf(alpha)\n",
    "\n",
    "def quantile_Y_given_1(alpha, x1, m_1, m_2, s_1, s_2, rho):\n",
    "    res = (mean_2_given_1(x1, m_1, m_2, s_1, s_2, rho))[:,np.newaxis] + \\\n",
    "    (s_2_given_1(s_2, rho)*ss.norm.ppf(alpha))[np.newaxis,:] + x1[:,np.newaxis]\n",
    "    return res \n",
    "\n",
    "def quantile_Y_given_2(alpha, x2, m_1, m_2, s_1, s_2, rho):\n",
    "    res = (mean_1_given_2(x2, m_1, m_2, s_1, s_2, rho))[:,np.newaxis] +  \\\n",
    "    (s_1_given_2(s_1, rho)*ss.norm.ppf(alpha))[np.newaxis,:] + x2[:,np.newaxis]\n",
    "    return res"
   ]
  },
  {
   "cell_type": "markdown",
   "metadata": {},
   "source": [
    "#### Compute the truncated expectation"
   ]
  },
  {
   "cell_type": "code",
   "execution_count": 6,
   "metadata": {},
   "outputs": [],
   "source": [
    "def truncated_expectation(alpha, m_Y, s_Y):\n",
    "    res = m_Y*alpha - s_Y*ss.norm.pdf(ss.norm.ppf(alpha))\n",
    "    return res\n",
    "\n",
    "def truncated_expectation_Y_given_1(alpha, x1, m_1, m_2, s_1, s_2, rho):\n",
    "    res = alpha[np.newaxis,:]*x1[:,np.newaxis] + \\\n",
    "    (mean_2_given_1(x1, m_1, m_2, s_1, s_2, rho))[:,np.newaxis]*alpha[np.newaxis,:] - \\\n",
    "    (s_2_given_1(s_2, rho)*ss.norm.pdf(ss.norm.ppf(alpha)))[np.newaxis,:]\n",
    "    return res\n",
    "\n",
    "def truncated_expectation_Y_given_2(alpha, x2, m_1, m_2, s_1, s_2, rho):\n",
    "    res = alpha[np.newaxis,:]*x2[:,np.newaxis] + \\\n",
    "    (mean_1_given_2(x2, m_1, m_2, s_1, s_2, rho))[:,np.newaxis]*alpha[np.newaxis,:] - \\\n",
    "    (s_1_given_2(s_1, rho)*ss.norm.pdf(ss.norm.ppf(alpha)))[np.newaxis,:]\n",
    "    return res "
   ]
  },
  {
   "cell_type": "markdown",
   "metadata": {},
   "source": [
    "#### Compute the QOSA indices"
   ]
  },
  {
   "cell_type": "code",
   "execution_count": 7,
   "metadata": {},
   "outputs": [],
   "source": [
    "def qosa_indices(s_1, s_2, s_Y, rho):\n",
    "    return 1 - (s_2*np.sqrt(1-rho**2))/s_Y, 1 - (s_1*np.sqrt(1-rho**2))/s_Y"
   ]
  },
  {
   "cell_type": "code",
   "execution_count": 8,
   "metadata": {},
   "outputs": [],
   "source": [
    "alpha = np.array([0.1, 0.3, 0.7, 0.9])\n",
    "q_Y = quantile_Y(alpha, mean_Y, sigma_Y)\n",
    "t_EY = truncated_expectation(alpha, mean_Y, sigma_Y)\n",
    "QOSA_indices = qosa_indices(sigma_1, sigma_2, sigma_Y, rho)"
   ]
  },
  {
   "cell_type": "markdown",
   "metadata": {},
   "source": [
    "## Test on the two variables"
   ]
  },
  {
   "cell_type": "code",
   "execution_count": 11,
   "metadata": {},
   "outputs": [],
   "source": [
    "n_sample = 10**7\n",
    "X1_values = ss.norm.rvs(size=n_sample, loc=mean_1, scale=sigma_1, random_state=None)\n",
    "q_Y_X1 = quantile_Y_given_1(alpha, X1_values, mean_1, mean_2, sigma_1, sigma_2, rho)\n",
    "t_EY_X1 = truncated_expectation_Y_given_1(alpha, X1_values, mean_1, mean_2, sigma_1, sigma_2, rho)"
   ]
  },
  {
   "cell_type": "code",
   "execution_count": 12,
   "metadata": {},
   "outputs": [],
   "source": [
    "n_sample = 10**7\n",
    "X2_values = ss.norm.rvs(size=n_sample, loc=mean_2, scale=sigma_2, random_state=None)\n",
    "q_Y_X2 = quantile_Y_given_2(alpha, X2_values, mean_1, mean_2, sigma_1, sigma_2, rho)\n",
    "t_EY_X2 = truncated_expectation_Y_given_2(alpha, X2_values, mean_1, mean_2, sigma_1, sigma_2, rho)"
   ]
  },
  {
   "cell_type": "code",
   "execution_count": 13,
   "metadata": {
    "cell_style": "split"
   },
   "outputs": [
    {
     "data": {
      "image/png": "[encoded data removed]",
      "text/plain": [
       "<Figure size 432x288 with 4 Axes>"
      ]
     },
     "metadata": {
      "needs_background": "light"
     },
     "output_type": "display_data"
    }
   ],
   "source": [
    "colors = sns.color_palette('bright')\n",
    "fig, axes = plt.subplots(nrows=2, ncols=2, figsize=(6,4))\n",
    "\n",
    "k = 0\n",
    "for i in range(2):\n",
    "    for j in range(2):\n",
    "        sns.distplot(q_Y_X1[:,k], \n",
    "                     ax=axes[i,j], \n",
    "                     hist=True, \n",
    "                     kde=False,\n",
    "                     color=colors[k],\n",
    "                     norm_hist=True, \n",
    "                     label=r'$ \\alpha = %.2f $' %(alpha[k],))\n",
    "        axes[i,j].axvline(x=q_Y[k], color=colors[k], linewidth=3)\n",
    "        axes[i,j].tick_params(axis = 'both', labelsize = 8)\n",
    "        axes[i,j].legend(loc='best',frameon=True, fontsize = 8)\n",
    "        k += 1\n",
    "\n",
    "fig.suptitle(r'$ q_{\\alpha}(Y)$ '+' and distribution of '+r'$q_{\\alpha}(Y | X_1) $', y=1.05, fontsize=14)\n",
    "fig.tight_layout()"
   ]
  },
  {
   "cell_type": "code",
   "execution_count": 14,
   "metadata": {
    "cell_style": "split"
   },
   "outputs": [
    {
     "data": {
      "image/png": "[encoded data removed]",
      "text/plain": [
       "<Figure size 432x288 with 4 Axes>"
      ]
     },
     "metadata": {
      "needs_background": "light"
     },
     "output_type": "display_data"
    }
   ],
   "source": [
    "colors = sns.color_palette('bright')\n",
    "fig, axes = plt.subplots(nrows=2, ncols=2, figsize=(6,4))\n",
    "\n",
    "k = 0\n",
    "for i in range(2):\n",
    "    for j in range(2):\n",
    "        sns.distplot(q_Y_X2[:,k], \n",
    "                     ax=axes[i,j], \n",
    "                     hist=True, \n",
    "                     kde=False,\n",
    "                     color=colors[k],\n",
    "                     norm_hist=True, \n",
    "                     label=r'$ \\alpha = %.2f $' %(alpha[k],))\n",
    "        axes[i,j].axvline(x=q_Y[k], color=colors[k], linewidth=3)\n",
    "        axes[i,j].tick_params(axis = 'both', labelsize = 8)\n",
    "        axes[i,j].legend(loc='best',frameon=True, fontsize = 8)\n",
    "        k += 1\n",
    "\n",
    "fig.suptitle(r'$ q_{\\alpha}(Y)$ '+' and distribution of '+r'$q_{\\alpha}(Y | X_2) $', y=1.05, fontsize=14)\n",
    "fig.tight_layout()"
   ]
  },
  {
   "cell_type": "code",
   "execution_count": 15,
   "metadata": {},
   "outputs": [
    {
     "data": {
      "text/plain": [
       "array([-4.05262189, -1.65830003,  1.65830003,  4.05262189])"
      ]
     },
     "execution_count": 15,
     "metadata": {},
     "output_type": "execute_result"
    }
   ],
   "source": [
    "q_Y"
   ]
  },
  {
   "cell_type": "code",
   "execution_count": 16,
   "metadata": {
    "cell_style": "center"
   },
   "outputs": [
    {
     "data": {
      "text/plain": [
       "array([0.05124378, 0.0511385 , 0.0514949 , 0.05138962])"
      ]
     },
     "execution_count": 16,
     "metadata": {},
     "output_type": "execute_result"
    }
   ],
   "source": [
    "1 - (q_Y_X1.mean(axis=0) - mean_Y)/(q_Y - mean_Y)"
   ]
  },
  {
   "cell_type": "code",
   "execution_count": 17,
   "metadata": {
    "cell_style": "center"
   },
   "outputs": [
    {
     "data": {
      "text/plain": [
       "array([0.68407563, 0.68451369, 0.68303078, 0.68346884])"
      ]
     },
     "execution_count": 17,
     "metadata": {},
     "output_type": "execute_result"
    }
   ],
   "source": [
    "1 - (q_Y_X2.mean(axis=0) - mean_Y)/(q_Y - mean_Y)"
   ]
  },
  {
   "cell_type": "code",
   "execution_count": 18,
   "metadata": {},
   "outputs": [
    {
     "data": {
      "text/plain": [
       "(0.05131670194948623, 0.683772233983162)"
      ]
     },
     "execution_count": 18,
     "metadata": {},
     "output_type": "execute_result"
    }
   ],
   "source": [
    "QOSA_indices"
   ]
  },
  {
   "cell_type": "code",
   "execution_count": 19,
   "metadata": {
    "cell_style": "split",
    "scrolled": false
   },
   "outputs": [
    {
     "data": {
      "image/png": "[encoded data removed]",
      "text/plain": [
       "<Figure size 432x288 with 4 Axes>"
      ]
     },
     "metadata": {
      "needs_background": "light"
     },
     "output_type": "display_data"
    }
   ],
   "source": [
    "colors = sns.color_palette('bright')\n",
    "fig, axes = plt.subplots(nrows=2, ncols=2, figsize=(6,4))\n",
    "\n",
    "k = 0\n",
    "for i in range(2):\n",
    "    for j in range(2):\n",
    "        sns.distplot(t_EY_X1[:,k], \n",
    "                     ax=axes[i,j], \n",
    "                     hist=True, \n",
    "                     kde=False,\n",
    "                     color=colors[k],\n",
    "                     norm_hist=True, \n",
    "                     label=r'$ \\alpha = %.2f $' %(alpha[k],))\n",
    "        axes[i,j].axvline(x=t_EY[k], color=colors[k], linewidth=3)\n",
    "        axes[i,j].tick_params(axis = 'both', labelsize = 8)\n",
    "        axes[i,j].legend(loc='best',frameon=True, fontsize = 8)\n",
    "        k += 1\n",
    "\n",
    "fig.suptitle(r'$ E[Y 1_{ \\{ Y <= q_{\\alpha} (Y) \\} }] $ ' +\n",
    "             ' and distribution of ' + \n",
    "             r'$ E[Y 1_{ \\{ Y <= q_{\\alpha} (Y | X_{1}) \\} } | X_1 ] $', y=1.05, fontsize=14)\n",
    "fig.tight_layout()"
   ]
  },
  {
   "cell_type": "code",
   "execution_count": 20,
   "metadata": {
    "cell_style": "split",
    "scrolled": true
   },
   "outputs": [
    {
     "data": {
      "image/png": "[encoded data removed]",
      "text/plain": [
       "<Figure size 432x288 with 4 Axes>"
      ]
     },
     "metadata": {
      "needs_background": "light"
     },
     "output_type": "display_data"
    }
   ],
   "source": [
    "colors = sns.color_palette('bright')\n",
    "fig, axes = plt.subplots(nrows=2, ncols=2, figsize=(6,4))\n",
    "\n",
    "k = 0\n",
    "for i in range(2):\n",
    "    for j in range(2):\n",
    "        sns.distplot(t_EY_X2[:,k], \n",
    "                     ax=axes[i,j], \n",
    "                     hist=True, \n",
    "                     kde=False,\n",
    "                     color=colors[k],\n",
    "                     norm_hist=True, \n",
    "                     label=r'$ \\alpha = %.2f $' %(alpha[k],))\n",
    "        axes[i,j].axvline(x=t_EY[k], color=colors[k], linewidth=3)\n",
    "        axes[i,j].tick_params(axis = 'both', labelsize = 8)\n",
    "        axes[i,j].legend(loc='best',frameon=True, fontsize = 8)\n",
    "        k += 1\n",
    "\n",
    "fig.suptitle(r'$ E[Y 1_{ \\{ Y <= q_{\\alpha} (Y) \\} }] $ ' +\n",
    "             ' and distribution of ' + \n",
    "             r'$ E[Y 1_{ \\{ Y <= q_{\\alpha} (Y | X_{2}) \\} } | X_2 ] $', y=1.05, fontsize=14)\n",
    "fig.tight_layout()"
   ]
  },
  {
   "cell_type": "code",
   "execution_count": 21,
   "metadata": {},
   "outputs": [
    {
     "data": {
      "text/plain": [
       "array([-0.55497445, -1.09950059, -1.09950059, -0.55497445])"
      ]
     },
     "execution_count": 21,
     "metadata": {},
     "output_type": "execute_result"
    }
   ],
   "source": [
    "t_EY"
   ]
  },
  {
   "cell_type": "code",
   "execution_count": 22,
   "metadata": {
    "cell_style": "split"
   },
   "outputs": [
    {
     "data": {
      "text/plain": [
       "array([-3.84495021, -1.57349705,  1.57290603,  3.84435919])"
      ]
     },
     "execution_count": 22,
     "metadata": {},
     "output_type": "execute_result"
    }
   ],
   "source": [
    "q_Y_X1.mean(axis=0) - mean_Y"
   ]
  },
  {
   "cell_type": "code",
   "execution_count": 23,
   "metadata": {
    "cell_style": "split"
   },
   "outputs": [
    {
     "data": {
      "text/plain": [
       "array([0.52652455, 1.0431665 , 1.0432847 , 0.52676095])"
      ]
     },
     "execution_count": 23,
     "metadata": {},
     "output_type": "execute_result"
    }
   ],
   "source": [
    "alpha*mean_Y - t_EY_X1.mean(axis=0)"
   ]
  },
  {
   "cell_type": "code",
   "execution_count": 24,
   "metadata": {
    "cell_style": "split"
   },
   "outputs": [
    {
     "data": {
      "text/plain": [
       "array([0.94875622, 0.9488615 , 0.9485051 , 0.94861038])"
      ]
     },
     "execution_count": 24,
     "metadata": {},
     "output_type": "execute_result"
    }
   ],
   "source": [
    "(q_Y_X1.mean(axis=0) - mean_Y)/(q_Y - mean_Y)"
   ]
  },
  {
   "cell_type": "code",
   "execution_count": 25,
   "metadata": {
    "cell_style": "split"
   },
   "outputs": [
    {
     "data": {
      "text/plain": [
       "array([0.94873655, 0.94876393, 0.94887144, 0.94916253])"
      ]
     },
     "execution_count": 25,
     "metadata": {},
     "output_type": "execute_result"
    }
   ],
   "source": [
    "(alpha*mean_Y - t_EY_X1.mean(axis=0))/(alpha*mean_Y - t_EY)"
   ]
  },
  {
   "cell_type": "code",
   "execution_count": 26,
   "metadata": {},
   "outputs": [
    {
     "data": {
      "text/plain": [
       "array([0.05126345, 0.05123607, 0.05112856, 0.05083747])"
      ]
     },
     "execution_count": 26,
     "metadata": {},
     "output_type": "execute_result"
    }
   ],
   "source": [
    "1 - (alpha*mean_Y - t_EY_X1.mean(axis=0))/(alpha*mean_Y - t_EY)"
   ]
  },
  {
   "cell_type": "code",
   "execution_count": 27,
   "metadata": {},
   "outputs": [
    {
     "data": {
      "text/plain": [
       "array([0.68399379, 0.68410772, 0.68455503, 0.6857662 ])"
      ]
     },
     "execution_count": 27,
     "metadata": {},
     "output_type": "execute_result"
    }
   ],
   "source": [
    "1 - (alpha*mean_Y -t_EY_X2.mean(axis=0))/(alpha*mean_Y - t_EY)"
   ]
  },
  {
   "cell_type": "code",
   "execution_count": 28,
   "metadata": {},
   "outputs": [
    {
     "data": {
      "text/plain": [
       "(0.05131670194948623, 0.683772233983162)"
      ]
     },
     "execution_count": 28,
     "metadata": {},
     "output_type": "execute_result"
    }
   ],
   "source": [
    "QOSA_indices"
   ]
  },
  {
   "cell_type": "code",
   "execution_count": null,
   "metadata": {
    "cell_style": "center"
   },
   "outputs": [],
   "source": [
    "colors = sns.color_palette('bright')\n",
    "fig, axes = plt.subplots(nrows=1, ncols=1, figsize=(6,4))\n",
    "\n",
    "k = 0\n",
    "for i in range(2):\n",
    "    for j in range(2):\n",
    "        sns.distplot(q_Y_X1[:,k], \n",
    "                     ax=axes, \n",
    "                     hist=True, \n",
    "                     kde=False,\n",
    "                     color=colors[k],\n",
    "                     norm_hist=True, \n",
    "                     label=r'$ \\alpha = %.2f $' %(alpha[k],))\n",
    "        axes.axvline(x=q_Y[k], color=colors[k], linewidth=3)\n",
    "        axes.legend(loc='best',frameon=True, fontsize = 8)\n",
    "        k += 1\n",
    "\n",
    "axes.tick_params(axis = 'both', labelsize = 8)\n",
    "fig.suptitle(r'$ q_{\\alpha}(Y)$ '+' and distribution of '+r'$q_{\\alpha}(Y | X_1) $', y=1.05, fontsize=14)\n",
    "fig.tight_layout()"
   ]
  },
  {
   "cell_type": "code",
   "execution_count": null,
   "metadata": {
    "cell_style": "center"
   },
   "outputs": [],
   "source": [
    "colors = sns.color_palette('bright')\n",
    "fig, axes = plt.subplots(nrows=1, ncols=1, figsize=(6,4))\n",
    "\n",
    "k = 0\n",
    "for i in range(2):\n",
    "    for j in range(2):\n",
    "        sns.distplot(q_Y_X2[:,k], \n",
    "                     ax=axes, \n",
    "                     hist=True, \n",
    "                     kde=False,\n",
    "                     color=colors[k],\n",
    "                     norm_hist=True, \n",
    "                     label=r'$ \\alpha = %.2f $' %(alpha[k],))\n",
    "        axes.axvline(x=q_Y[k], color=colors[k], linewidth=3)\n",
    "        axes.legend(loc='best',frameon=True, fontsize = 8)\n",
    "        k += 1\n",
    "\n",
    "axes.tick_params(axis = 'both', labelsize = 8)\n",
    "fig.suptitle(r'$ q_{\\alpha}(Y)$ '+' and distribution of '+r'$q_{\\alpha}(Y | X_2) $', y=1.05, fontsize=14)\n",
    "fig.tight_layout()"
   ]
  },
  {
   "cell_type": "code",
   "execution_count": null,
   "metadata": {
    "cell_style": "center"
   },
   "outputs": [],
   "source": [
    "colors = sns.color_palette('bright')\n",
    "fig, axes = plt.subplots(nrows=1, ncols=1, figsize=(6,4))\n",
    "\n",
    "k = 0\n",
    "for i in range(2):\n",
    "    for j in range(2):\n",
    "        sns.distplot(t_EY_X1[:,k], \n",
    "                     ax=axes, \n",
    "                     hist=True, \n",
    "                     kde=False,\n",
    "                     color=colors[k],\n",
    "                     norm_hist=True, \n",
    "                     label=r'$ \\alpha = %.2f $' %(alpha[k],))\n",
    "        axes.axvline(x=t_EY[k], color=colors[k], linewidth=3)\n",
    "        axes.legend(loc='best',frameon=True, fontsize = 8)\n",
    "        k += 1\n",
    "\n",
    "axes.tick_params(axis = 'both', labelsize = 8)\n",
    "fig.suptitle(r'$ E[Y 1_{ \\{ Y <= q_{\\alpha} (Y) \\} }] $ ' +\n",
    "             ' and distribution of ' + \n",
    "             r'$ E[Y 1_{ \\{ Y <= q_{\\alpha} (Y | X_{1}) \\} } | X_1 ] $', y=1.05, fontsize=14)\n",
    "fig.tight_layout()"
   ]
  },
  {
   "cell_type": "code",
   "execution_count": null,
   "metadata": {
    "cell_style": "center"
   },
   "outputs": [],
   "source": [
    "colors = sns.color_palette('bright')\n",
    "fig, axes = plt.subplots(nrows=1, ncols=1, figsize=(6,4))\n",
    "\n",
    "k = 0\n",
    "for i in range(2):\n",
    "    for j in range(2):\n",
    "        sns.distplot(t_EY_X2[:,k], \n",
    "                     ax=axes, \n",
    "                     hist=True, \n",
    "                     kde=False,\n",
    "                     color=colors[k],\n",
    "                     norm_hist=True, \n",
    "                     label=r'$ \\alpha = %.2f $' %(alpha[k],))\n",
    "        axes.axvline(x=t_EY[k], color=colors[k], linewidth=3)\n",
    "        axes.legend(loc='best',frameon=True, fontsize = 8)\n",
    "        k += 1\n",
    "\n",
    "axes.tick_params(axis = 'both', labelsize = 8)\n",
    "fig.suptitle(r'$ E[Y 1_{ \\{ Y <= q_{\\alpha} (Y) \\} }] $ ' +\n",
    "             ' and distribution of ' + \n",
    "             r'$ E[Y 1_{ \\{ Y <= q_{\\alpha} (Y | X_{2}) \\} } | X_2 ] $', y=1.05, fontsize=14)\n",
    "fig.tight_layout()"
   ]
  },
  {
   "cell_type": "code",
   "execution_count": null,
   "metadata": {
    "cell_style": "center"
   },
   "outputs": [],
   "source": [
    "x1_values = np.arange(-10,10)\n",
    "q_Y_x1 = quantile_Y_given_1(alpha, x1_values, mean_1, mean_2, sigma_1, sigma_2, rho)\n",
    "t_EY_x1 = truncated_expectation_Y_given_1(alpha, x1_values, mean_1, mean_2, sigma_1, sigma_2, rho)"
   ]
  },
  {
   "cell_type": "code",
   "execution_count": null,
   "metadata": {
    "cell_style": "center"
   },
   "outputs": [],
   "source": [
    "x2_values = np.arange(-10,10)\n",
    "q_Y_x2 = quantile_Y_given_2(alpha, x2_values, mean_1, mean_2, sigma_1, sigma_2, rho)\n",
    "t_EY_x2 = truncated_expectation_Y_given_2(alpha, x2_values, mean_1, mean_2, sigma_1, sigma_2, rho)"
   ]
  },
  {
   "cell_type": "code",
   "execution_count": null,
   "metadata": {
    "cell_style": "center"
   },
   "outputs": [],
   "source": [
    "colors = sns.color_palette('bright')\n",
    "fig, axes = plt.subplots(nrows=1, ncols=1, figsize=(6,4))\n",
    "\n",
    "k = 0\n",
    "for i in range(2):\n",
    "    for j in range(2):\n",
    "        axes.plot(x1_values, q_Y_x1[:,k], color=colors[k], label=r'$ \\alpha = %.2f $' %(alpha[k],))\n",
    "        axes.axhline(y=q_Y[k], color=colors[k], linestyle='dashed')\n",
    "        axes.tick_params(axis = 'both', labelsize = 8)\n",
    "        axes.legend(loc='best',frameon=True, fontsize = 8)\n",
    "        k += 1\n",
    "\n",
    "fig.suptitle(r'$ q_{\\alpha}(Y)$ '+' and values of '+r'$q_{\\alpha}(Y | X_1) $', y=1.05, fontsize=14)\n",
    "fig.tight_layout()"
   ]
  },
  {
   "cell_type": "code",
   "execution_count": null,
   "metadata": {
    "cell_style": "center"
   },
   "outputs": [],
   "source": [
    "colors = sns.color_palette('bright')\n",
    "fig, axes = plt.subplots(nrows=1, ncols=1, figsize=(6,4))\n",
    "\n",
    "k = 0\n",
    "for i in range(2):\n",
    "    for j in range(2):\n",
    "        axes.plot(x2_values, q_Y_x2[:,k], color=colors[k], label=r'$ \\alpha = %.2f $' %(alpha[k],))\n",
    "        axes.axhline(y=q_Y[k], color=colors[k], linestyle='dashed')\n",
    "        axes.tick_params(axis = 'both', labelsize = 8)\n",
    "        axes.legend(loc='best',frameon=True, fontsize = 8)\n",
    "        k += 1\n",
    "\n",
    "fig.suptitle(r'$ q_{\\alpha}(Y)$ '+' and values of '+r'$q_{\\alpha}(Y | X_2) $', y=1.05, fontsize=14)\n",
    "fig.tight_layout()"
   ]
  },
  {
   "cell_type": "code",
   "execution_count": null,
   "metadata": {
    "cell_style": "center"
   },
   "outputs": [],
   "source": [
    "colors = sns.color_palette('bright')\n",
    "fig, axes = plt.subplots(nrows=1, ncols=1, figsize=(6,4))\n",
    "\n",
    "k = 0\n",
    "for i in range(2):\n",
    "    for j in range(2):\n",
    "        axes.plot(x1_values, t_EY_x1[:,k], color=colors[k], label=r'$ \\alpha = %.2f $' %(alpha[k],))\n",
    "        axes.axhline(y=t_EY[k], color=colors[k], linestyle='dashed')\n",
    "        axes.tick_params(axis = 'both', labelsize = 8)\n",
    "        axes.legend(loc='best',frameon=True, fontsize = 8)\n",
    "        k += 1\n",
    "\n",
    "fig.suptitle(r'$ E[Y 1_{ \\{ Y <= q_{\\alpha} (Y) \\} }] $ ' +\n",
    "             ' and values of ' + \n",
    "             r'$ E[Y 1_{ \\{ Y <= q_{\\alpha} (Y | X_{1}) \\} } | X_1 ] $', y=1.05, fontsize=14)\n",
    "fig.tight_layout()"
   ]
  },
  {
   "cell_type": "code",
   "execution_count": null,
   "metadata": {
    "cell_style": "center"
   },
   "outputs": [],
   "source": [
    "colors = sns.color_palette('bright')\n",
    "fig, axes = plt.subplots(nrows=1, ncols=1, figsize=(6,4))\n",
    "\n",
    "k = 0\n",
    "for i in range(2):\n",
    "    for j in range(2):\n",
    "        axes.plot(x2_values, t_EY_x2[:,k], color=colors[k], label=r'$ \\alpha = %.2f $' %(alpha[k],))\n",
    "        axes.axhline(y=t_EY[k], color=colors[k], linestyle='dashed')\n",
    "        axes.tick_params(axis = 'both', labelsize = 8)\n",
    "        axes.legend(loc='best',frameon=True, fontsize = 8)\n",
    "        k += 1\n",
    "\n",
    "fig.suptitle(r'$ E[Y 1_{ \\{ Y <= q_{\\alpha} (Y) \\} }] $ ' +\n",
    "             ' and values of ' + \n",
    "             r'$ E[Y 1_{ \\{ Y <= q_{\\alpha} (Y | X_{2}) \\} } | X_2 ] $', y=1.05, fontsize=14)\n",
    "fig.tight_layout()"
   ]
  },
  {
   "cell_type": "code",
   "execution_count": null,
   "metadata": {},
   "outputs": [],
   "source": []
  },
  {
   "cell_type": "code",
   "execution_count": null,
   "metadata": {},
   "outputs": [],
   "source": []
  },
  {
   "cell_type": "code",
   "execution_count": null,
   "metadata": {},
   "outputs": [],
   "source": []
  },
  {
   "cell_type": "code",
   "execution_count": null,
   "metadata": {},
   "outputs": [],
   "source": []
  },
  {
   "cell_type": "code",
   "execution_count": null,
   "metadata": {},
   "outputs": [],
   "source": []
  },
  {
   "cell_type": "code",
   "execution_count": null,
   "metadata": {},
   "outputs": [],
   "source": []
  },
  {
   "cell_type": "code",
   "execution_count": null,
   "metadata": {},
   "outputs": [],
   "source": []
  },
  {
   "cell_type": "code",
   "execution_count": 89,
   "metadata": {},
   "outputs": [],
   "source": [
    "import openturns as ot\n",
    "import numpy as np\n",
    "\n",
    "from shapley.model import ProbabilisticModel\n",
    "\n",
    "def pres_func(X):\n",
    "    \"\"\"Linear model function\n",
    "    \"\"\"\n",
    "    X = np.asarray(X)\n",
    "    dim = X.shape[1]\n",
    "    coef = np.ones(dim)\n",
    "    return X.dot(coef)\n",
    "\n",
    "dim = 2\n",
    "margins = [ot.Normal(0, 1.5), ot.Normal(100, 1)]\n",
    "copula = ot.NormalCopula(dim)\n",
    "input_distribution = ot.ComposedDistribution(margins, copula)\n",
    "model = ProbabilisticModel(model_func = pres_func, input_distribution = input_distribution)\n",
    "\n",
    "from shapley import SobolIndices\n",
    "\n",
    "n_sample = 10**5\n",
    "\n",
    "sobol = SobolIndices(model.input_distribution)\n",
    "sobol.build_sample(model=model, n_sample=n_sample)\n",
    "sobol_results = sobol.compute_indices(n_boot=1)"
   ]
  },
  {
   "cell_type": "code",
   "execution_count": 90,
   "metadata": {},
   "outputs": [
    {
     "data": {
      "text/plain": [
       "array([[0.35273939],\n",
       "       [0.63907417]])"
      ]
     },
     "execution_count": 90,
     "metadata": {},
     "output_type": "execute_result"
    }
   ],
   "source": [
    "sobol_results.first_indices"
   ]
  },
  {
   "cell_type": "code",
   "execution_count": 91,
   "metadata": {},
   "outputs": [
    {
     "data": {
      "text/plain": [
       "array([[0.31931082],\n",
       "       [0.60483111]])"
      ]
     },
     "execution_count": 91,
     "metadata": {},
     "output_type": "execute_result"
    }
   ],
   "source": [
    "sobol_results.total_indices"
   ]
  },
  {
   "cell_type": "code",
   "execution_count": null,
   "metadata": {},
   "outputs": [],
   "source": []
  }
 ],
 "metadata": {
  "@webio": {
   "lastCommId": null,
   "lastKernelId": null
  },
  "kernelspec": {
   "display_name": "Python 3",
   "language": "python",
   "name": "python3"
  },
  "language_info": {
   "codemirror_mode": {
    "name": "ipython",
    "version": 3
   },
   "file_extension": ".py",
   "mimetype": "text/x-python",
   "name": "python",
   "nbconvert_exporter": "python",
   "pygments_lexer": "ipython3",
   "version": "3.7.4"
  }
 },
 "nbformat": 4,
 "nbformat_minor": 2
}
